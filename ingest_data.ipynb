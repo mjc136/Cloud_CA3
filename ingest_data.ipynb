{
 "cells": [
  {
   "cell_type": "code",
   "execution_count": 1,
   "metadata": {},
   "outputs": [],
   "source": [
    "config = {\n",
    "    \"user\": \"root\",\n",
    "    \"password\": \"swim\",\n",
    "    \"database\": \"SwimmerApp\",\n",
    "    \"host\": \"localhost\",\n",
    "}"
   ]
  },
  {
   "cell_type": "code",
   "execution_count": 3,
   "metadata": {},
   "outputs": [],
   "source": [
    "import hfpy_utils  # created by Paul Barry\n",
    "import swim_utils  # created by Paul Barry\n",
    "import my_utils\n",
    "\n",
    "import os\n",
    "import DBcm\n",
    "from datetime import datetime, timedelta\n",
    "\n",
    "FOLDER = r\"swimdata2/\"\n"
   ]
  },
  {
   "cell_type": "code",
   "execution_count": 6,
   "metadata": {},
   "outputs": [],
   "source": [
    "with DBcm.UseDatabase(config) as db:\n",
    "    for filename in os.listdir(FOLDER):\n",
    "        name, age, distance, stroke = filename.removesuffix(\".txt\").split(\"-\")\n",
    "\n",
    "        SQL = \"\"\"INSERT INTO swimmers (swimmer_name, swimmer_age)\n",
    "                SELECT %s, %s\n",
    "                WHERE NOT EXISTS (\n",
    "                    SELECT 1 \n",
    "                    FROM swimmers \n",
    "                    WHERE swimmer_name = %s AND swimmer_age = %s\n",
    "                )\"\"\"\n",
    "        db.execute(SQL, (name, age, name, age))\n",
    "        results = db.fetchall()\n",
    "        SQL = \"\"\" INSERT INTO events (event_distance, event_stroke)\n",
    "                SELECT %s, %s\n",
    "                WHERE NOT EXISTS (\n",
    "                    SELECT 1 \n",
    "                    FROM events \n",
    "                    WHERE event_distance = %s AND event_stroke = %s\n",
    "                )\"\"\"\n",
    "        db.execute(SQL, (distance, stroke, distance, stroke))\n",
    "        results = db.fetchall()"
   ]
  },
  {
   "cell_type": "code",
   "execution_count": 21,
   "metadata": {},
   "outputs": [],
   "source": [
    "with DBcm.UseDatabase(config) as db:\n",
    "    for filename in os.listdir(FOLDER):\n",
    "        name, age, distance, stroke = filename.removesuffix(\".txt\").split(\"-\")\n",
    "\n",
    "        SQL = \"\"\"SELECT swimmer_ID FROM swimmers WHERE swimmer_name = %s AND swimmer_age = %s\"\"\"\n",
    "        db.execute(SQL, (name, age))\n",
    "        swimmerID = db.fetchone()\n",
    "\n",
    "\n",
    "        SQL = \"\"\"SELECT event_ID FROM events WHERE event_distance = %s AND event_stroke = %s\"\"\"\n",
    "        db.execute(SQL, (distance, stroke))\n",
    "        event_ID = db.fetchone()\n",
    "\n",
    "        now = datetime.now()\n",
    "        \n",
    "        with open(os.path.join(FOLDER, filename)) as fh:\n",
    "            data = fh.read()\n",
    "        times = data.strip().split(\",\")\n",
    "\n",
    "        for t in times:\n",
    "                SQL = \"\"\"INSERT INTO times (swimmer_ID, event_ID, recorded_time, ts) VALUES (%s, %s, %s, %s)\"\"\"\n",
    "                db.execute(SQL, (swimmerID[0], event_ID[0], t, now))\n",
    "\n",
    "\n",
    "\n"
   ]
  }
 ],
 "metadata": {
  "kernelspec": {
   "display_name": "Python 3",
   "language": "python",
   "name": "python3"
  },
  "language_info": {
   "codemirror_mode": {
    "name": "ipython",
    "version": 3
   },
   "file_extension": ".py",
   "mimetype": "text/x-python",
   "name": "python",
   "nbconvert_exporter": "python",
   "pygments_lexer": "ipython3",
   "version": "3.11.5"
  }
 },
 "nbformat": 4,
 "nbformat_minor": 2
}
