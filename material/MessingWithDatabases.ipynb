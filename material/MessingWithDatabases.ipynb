{
 "cells": [
  {
   "cell_type": "code",
   "execution_count": 1,
   "metadata": {},
   "outputs": [
    {
     "name": "stdout",
     "output_type": "stream",
     "text": [
      "Requirement already satisfied: DBcm in c:\\users\\mjcul\\appdata\\local\\packages\\pythonsoftwarefoundation.python.3.11_qbz5n2kfra8p0\\localcache\\local-packages\\python311\\site-packages (2.1)\n",
      "Requirement already satisfied: mysql-connector-python in c:\\users\\mjcul\\appdata\\local\\packages\\pythonsoftwarefoundation.python.3.11_qbz5n2kfra8p0\\localcache\\local-packages\\python311\\site-packages (from DBcm) (8.2.0)\n",
      "Requirement already satisfied: protobuf<=4.21.12,>=4.21.1 in c:\\users\\mjcul\\appdata\\local\\packages\\pythonsoftwarefoundation.python.3.11_qbz5n2kfra8p0\\localcache\\local-packages\\python311\\site-packages (from mysql-connector-python->DBcm) (4.21.12)\n",
      "Note: you may need to restart the kernel to use updated packages.\n"
     ]
    }
   ],
   "source": [
    "%pip install --upgrade DBcm"
   ]
  },
  {
   "cell_type": "code",
   "execution_count": 2,
   "metadata": {},
   "outputs": [],
   "source": [
    "config = {\n",
    "    \"user\": \"swimuser\",\n",
    "    \"password\": \"swimuserpasswd\",\n",
    "    \"database\": \"SwimclubDB\",\n",
    "    \"host\": \"localhost\",\n",
    "}"
   ]
  },
  {
   "cell_type": "code",
   "execution_count": 3,
   "metadata": {},
   "outputs": [],
   "source": [
    "with open(\"MessingWithDatabases.ipynb\") as f:\n",
    "    data = f.read()"
   ]
  },
  {
   "cell_type": "code",
   "execution_count": 4,
   "metadata": {},
   "outputs": [],
   "source": [
    "import DBcm"
   ]
  },
  {
   "cell_type": "code",
   "execution_count": 5,
   "metadata": {},
   "outputs": [
    {
     "name": "stderr",
     "output_type": "stream",
     "text": [
      "Requested Module was not found: No module named 'mysql.connector.plugins.auth_gssapi_client'\n"
     ]
    },
    {
     "ename": "NotSupportedError",
     "evalue": "Authentication plugin 'auth_gssapi_client' is not supported",
     "output_type": "error",
     "traceback": [
      "\u001b[1;31m---------------------------------------------------------------------------\u001b[0m",
      "\u001b[1;31mNotSupportedError\u001b[0m                         Traceback (most recent call last)",
      "\u001b[1;32mc:\\Users\\mjcul\\OneDrive - Institute of Technology Carlow\\Year 3\\Cloud Dev\\CA3\\material\\MessingWithDatabases.ipynb Cell 5\u001b[0m line \u001b[0;36m1\n\u001b[1;32m----> <a href='vscode-notebook-cell:/c%3A/Users/mjcul/OneDrive%20-%20Institute%20of%20Technology%20Carlow/Year%203/Cloud%20Dev/CA3/material/MessingWithDatabases.ipynb#W4sZmlsZQ%3D%3D?line=0'>1</a>\u001b[0m \u001b[39mwith\u001b[39;49;00m DBcm\u001b[39m.\u001b[39;49mUseDatabase(config) \u001b[39mas\u001b[39;49;00m db:\n\u001b[0;32m      <a href='vscode-notebook-cell:/c%3A/Users/mjcul/OneDrive%20-%20Institute%20of%20Technology%20Carlow/Year%203/Cloud%20Dev/CA3/material/MessingWithDatabases.ipynb#W4sZmlsZQ%3D%3D?line=1'>2</a>\u001b[0m     SQL \u001b[39m=\u001b[39;49m \u001b[39m\"\"\"\u001b[39;49m\u001b[39m show tables \u001b[39;49m\u001b[39m\"\"\"\u001b[39;49m\n\u001b[0;32m      <a href='vscode-notebook-cell:/c%3A/Users/mjcul/OneDrive%20-%20Institute%20of%20Technology%20Carlow/Year%203/Cloud%20Dev/CA3/material/MessingWithDatabases.ipynb#W4sZmlsZQ%3D%3D?line=2'>3</a>\u001b[0m     db\u001b[39m.\u001b[39;49mexecute(SQL)\n",
      "File \u001b[1;32m~\\AppData\\Local\\Packages\\PythonSoftwareFoundation.Python.3.11_qbz5n2kfra8p0\\LocalCache\\local-packages\\Python311\\site-packages\\DBcm.py:96\u001b[0m, in \u001b[0;36mUseDatabase.__enter__\u001b[1;34m(self)\u001b[0m\n\u001b[0;32m     94\u001b[0m \u001b[39mif\u001b[39;00m \u001b[39mself\u001b[39m\u001b[39m.\u001b[39mtype \u001b[39m==\u001b[39m \u001b[39m\"\u001b[39m\u001b[39mMySQL\u001b[39m\u001b[39m\"\u001b[39m:\n\u001b[0;32m     95\u001b[0m     \u001b[39mtry\u001b[39;00m:\n\u001b[1;32m---> 96\u001b[0m         \u001b[39mself\u001b[39m\u001b[39m.\u001b[39mconn \u001b[39m=\u001b[39m mysql\u001b[39m.\u001b[39;49mconnector\u001b[39m.\u001b[39;49mconnect(\u001b[39m*\u001b[39;49m\u001b[39m*\u001b[39;49m\u001b[39mself\u001b[39;49m\u001b[39m.\u001b[39;49mconfiguration)\n\u001b[0;32m     97\u001b[0m     \u001b[39mexcept\u001b[39;00m mysql\u001b[39m.\u001b[39mconnector\u001b[39m.\u001b[39mInterfaceError \u001b[39mas\u001b[39;00m err:\n\u001b[0;32m     98\u001b[0m         \u001b[39mraise\u001b[39;00m \u001b[39mConnectionError\u001b[39;00m(err) \u001b[39mfrom\u001b[39;00m \u001b[39merr\u001b[39;00m\n",
      "File \u001b[1;32m~\\AppData\\Local\\Packages\\PythonSoftwareFoundation.Python.3.11_qbz5n2kfra8p0\\LocalCache\\local-packages\\Python311\\site-packages\\mysql\\connector\\pooling.py:294\u001b[0m, in \u001b[0;36mconnect\u001b[1;34m(*args, **kwargs)\u001b[0m\n\u001b[0;32m    292\u001b[0m \u001b[39mif\u001b[39;00m CMySQLConnection \u001b[39mand\u001b[39;00m \u001b[39mnot\u001b[39;00m use_pure:\n\u001b[0;32m    293\u001b[0m     \u001b[39mreturn\u001b[39;00m CMySQLConnection(\u001b[39m*\u001b[39margs, \u001b[39m*\u001b[39m\u001b[39m*\u001b[39mkwargs)\n\u001b[1;32m--> 294\u001b[0m \u001b[39mreturn\u001b[39;00m MySQLConnection(\u001b[39m*\u001b[39;49margs, \u001b[39m*\u001b[39;49m\u001b[39m*\u001b[39;49mkwargs)\n",
      "File \u001b[1;32m~\\AppData\\Local\\Packages\\PythonSoftwareFoundation.Python.3.11_qbz5n2kfra8p0\\LocalCache\\local-packages\\Python311\\site-packages\\mysql\\connector\\connection.py:169\u001b[0m, in \u001b[0;36mMySQLConnection.__init__\u001b[1;34m(self, **kwargs)\u001b[0m\n\u001b[0;32m    167\u001b[0m \u001b[39mif\u001b[39;00m kwargs:\n\u001b[0;32m    168\u001b[0m     \u001b[39mtry\u001b[39;00m:\n\u001b[1;32m--> 169\u001b[0m         \u001b[39mself\u001b[39;49m\u001b[39m.\u001b[39;49mconnect(\u001b[39m*\u001b[39;49m\u001b[39m*\u001b[39;49mkwargs)\n\u001b[0;32m    170\u001b[0m     \u001b[39mexcept\u001b[39;00m \u001b[39mException\u001b[39;00m:\n\u001b[0;32m    171\u001b[0m         \u001b[39m# Tidy-up underlying socket on failure\u001b[39;00m\n\u001b[0;32m    172\u001b[0m         \u001b[39mself\u001b[39m\u001b[39m.\u001b[39mclose()\n",
      "File \u001b[1;32m~\\AppData\\Local\\Packages\\PythonSoftwareFoundation.Python.3.11_qbz5n2kfra8p0\\LocalCache\\local-packages\\Python311\\site-packages\\mysql\\connector\\abstracts.py:1237\u001b[0m, in \u001b[0;36mMySQLConnectionAbstract.connect\u001b[1;34m(self, **kwargs)\u001b[0m\n\u001b[0;32m   1234\u001b[0m     \u001b[39mself\u001b[39m\u001b[39m.\u001b[39mconfig(\u001b[39m*\u001b[39m\u001b[39m*\u001b[39mkwargs)\n\u001b[0;32m   1236\u001b[0m \u001b[39mself\u001b[39m\u001b[39m.\u001b[39mdisconnect()\n\u001b[1;32m-> 1237\u001b[0m \u001b[39mself\u001b[39;49m\u001b[39m.\u001b[39;49m_open_connection()\n\u001b[0;32m   1239\u001b[0m charset, collation \u001b[39m=\u001b[39m (\n\u001b[0;32m   1240\u001b[0m     kwargs\u001b[39m.\u001b[39mpop(\u001b[39m\"\u001b[39m\u001b[39mcharset\u001b[39m\u001b[39m\"\u001b[39m, \u001b[39mNone\u001b[39;00m),\n\u001b[0;32m   1241\u001b[0m     kwargs\u001b[39m.\u001b[39mpop(\u001b[39m\"\u001b[39m\u001b[39mcollation\u001b[39m\u001b[39m\"\u001b[39m, \u001b[39mNone\u001b[39;00m),\n\u001b[0;32m   1242\u001b[0m )\n\u001b[0;32m   1243\u001b[0m \u001b[39mif\u001b[39;00m charset \u001b[39mor\u001b[39;00m collation:\n",
      "File \u001b[1;32m~\\AppData\\Local\\Packages\\PythonSoftwareFoundation.Python.3.11_qbz5n2kfra8p0\\LocalCache\\local-packages\\Python311\\site-packages\\mysql\\connector\\connection.py:355\u001b[0m, in \u001b[0;36mMySQLConnection._open_connection\u001b[1;34m(self)\u001b[0m\n\u001b[0;32m    352\u001b[0m \u001b[39mself\u001b[39m\u001b[39m.\u001b[39m_do_handshake()\n\u001b[0;32m    354\u001b[0m \u001b[39m# start authentication negotiation\u001b[39;00m\n\u001b[1;32m--> 355\u001b[0m \u001b[39mself\u001b[39;49m\u001b[39m.\u001b[39;49m_do_auth(\n\u001b[0;32m    356\u001b[0m     \u001b[39mself\u001b[39;49m\u001b[39m.\u001b[39;49m_user,\n\u001b[0;32m    357\u001b[0m     \u001b[39mself\u001b[39;49m\u001b[39m.\u001b[39;49m_password,\n\u001b[0;32m    358\u001b[0m     \u001b[39mself\u001b[39;49m\u001b[39m.\u001b[39;49m_database,\n\u001b[0;32m    359\u001b[0m     \u001b[39mself\u001b[39;49m\u001b[39m.\u001b[39;49m_client_flags,\n\u001b[0;32m    360\u001b[0m     \u001b[39mself\u001b[39;49m\u001b[39m.\u001b[39;49m_charset_id,\n\u001b[0;32m    361\u001b[0m     \u001b[39mself\u001b[39;49m\u001b[39m.\u001b[39;49m_ssl,\n\u001b[0;32m    362\u001b[0m     \u001b[39mself\u001b[39;49m\u001b[39m.\u001b[39;49m_conn_attrs,\n\u001b[0;32m    363\u001b[0m )\n\u001b[0;32m    364\u001b[0m \u001b[39mself\u001b[39m\u001b[39m.\u001b[39mset_converter_class(\u001b[39mself\u001b[39m\u001b[39m.\u001b[39m_converter_class)\n\u001b[0;32m    366\u001b[0m \u001b[39mif\u001b[39;00m \u001b[39mself\u001b[39m\u001b[39m.\u001b[39m_client_flags \u001b[39m&\u001b[39m ClientFlag\u001b[39m.\u001b[39mCOMPRESS:\n\u001b[0;32m    367\u001b[0m     \u001b[39m# update the network layer accordingly\u001b[39;00m\n",
      "File \u001b[1;32m~\\AppData\\Local\\Packages\\PythonSoftwareFoundation.Python.3.11_qbz5n2kfra8p0\\LocalCache\\local-packages\\Python311\\site-packages\\mysql\\connector\\connection.py:288\u001b[0m, in \u001b[0;36mMySQLConnection._do_auth\u001b[1;34m(self, username, password, database, client_flags, charset, ssl_options, conn_attrs)\u001b[0m\n\u001b[0;32m    279\u001b[0m     \u001b[39mself\u001b[39m\u001b[39m.\u001b[39m_authenticator\u001b[39m.\u001b[39msetup_ssl(\n\u001b[0;32m    280\u001b[0m         \u001b[39mself\u001b[39m\u001b[39m.\u001b[39m_socket,\n\u001b[0;32m    281\u001b[0m         \u001b[39mself\u001b[39m\u001b[39m.\u001b[39mserver_host,\n\u001b[1;32m   (...)\u001b[0m\n\u001b[0;32m    284\u001b[0m         client_flags\u001b[39m=\u001b[39mclient_flags,\n\u001b[0;32m    285\u001b[0m     )\n\u001b[0;32m    286\u001b[0m     \u001b[39mself\u001b[39m\u001b[39m.\u001b[39m_ssl_active \u001b[39m=\u001b[39m \u001b[39mTrue\u001b[39;00m\n\u001b[1;32m--> 288\u001b[0m ok_pkt \u001b[39m=\u001b[39m \u001b[39mself\u001b[39;49m\u001b[39m.\u001b[39;49m_authenticator\u001b[39m.\u001b[39;49mauthenticate(\n\u001b[0;32m    289\u001b[0m     sock\u001b[39m=\u001b[39;49m\u001b[39mself\u001b[39;49m\u001b[39m.\u001b[39;49m_socket,\n\u001b[0;32m    290\u001b[0m     handshake\u001b[39m=\u001b[39;49m\u001b[39mself\u001b[39;49m\u001b[39m.\u001b[39;49m_handshake,\n\u001b[0;32m    291\u001b[0m     username\u001b[39m=\u001b[39;49musername,\n\u001b[0;32m    292\u001b[0m     password1\u001b[39m=\u001b[39;49mpassword,\n\u001b[0;32m    293\u001b[0m     password2\u001b[39m=\u001b[39;49m\u001b[39mself\u001b[39;49m\u001b[39m.\u001b[39;49m_password2,\n\u001b[0;32m    294\u001b[0m     password3\u001b[39m=\u001b[39;49m\u001b[39mself\u001b[39;49m\u001b[39m.\u001b[39;49m_password3,\n\u001b[0;32m    295\u001b[0m     database\u001b[39m=\u001b[39;49mdatabase,\n\u001b[0;32m    296\u001b[0m     charset\u001b[39m=\u001b[39;49mcharset,\n\u001b[0;32m    297\u001b[0m     client_flags\u001b[39m=\u001b[39;49mclient_flags,\n\u001b[0;32m    298\u001b[0m     auth_plugin\u001b[39m=\u001b[39;49m\u001b[39mself\u001b[39;49m\u001b[39m.\u001b[39;49m_auth_plugin,\n\u001b[0;32m    299\u001b[0m     auth_plugin_class\u001b[39m=\u001b[39;49m\u001b[39mself\u001b[39;49m\u001b[39m.\u001b[39;49m_auth_plugin_class,\n\u001b[0;32m    300\u001b[0m     conn_attrs\u001b[39m=\u001b[39;49mconn_attrs,\n\u001b[0;32m    301\u001b[0m     krb_service_principal\u001b[39m=\u001b[39;49m\u001b[39mself\u001b[39;49m\u001b[39m.\u001b[39;49m_krb_service_principal,\n\u001b[0;32m    302\u001b[0m     oci_config_file\u001b[39m=\u001b[39;49m\u001b[39mself\u001b[39;49m\u001b[39m.\u001b[39;49m_oci_config_file,\n\u001b[0;32m    303\u001b[0m     oci_config_profile\u001b[39m=\u001b[39;49m\u001b[39mself\u001b[39;49m\u001b[39m.\u001b[39;49m_oci_config_profile,\n\u001b[0;32m    304\u001b[0m     webauthn_callback\u001b[39m=\u001b[39;49m\u001b[39mself\u001b[39;49m\u001b[39m.\u001b[39;49m_webauthn_callback,\n\u001b[0;32m    305\u001b[0m     fido_callback\u001b[39m=\u001b[39;49m\u001b[39mself\u001b[39;49m\u001b[39m.\u001b[39;49m_fido_callback,\n\u001b[0;32m    306\u001b[0m )\n\u001b[0;32m    307\u001b[0m \u001b[39mself\u001b[39m\u001b[39m.\u001b[39m_handle_ok(ok_pkt)\n\u001b[0;32m    309\u001b[0m \u001b[39mif\u001b[39;00m \u001b[39mnot\u001b[39;00m (client_flags \u001b[39m&\u001b[39m ClientFlag\u001b[39m.\u001b[39mCONNECT_WITH_DB) \u001b[39mand\u001b[39;00m database:\n",
      "File \u001b[1;32m~\\AppData\\Local\\Packages\\PythonSoftwareFoundation.Python.3.11_qbz5n2kfra8p0\\LocalCache\\local-packages\\Python311\\site-packages\\mysql\\connector\\authentication.py:378\u001b[0m, in \u001b[0;36mMySQLAuthenticator.authenticate\u001b[1;34m(self, sock, handshake, username, password1, password2, password3, database, charset, client_flags, max_allowed_packet, auth_plugin, auth_plugin_class, conn_attrs, is_change_user_request, **plugin_config)\u001b[0m\n\u001b[0;32m    375\u001b[0m \u001b[39m# server replies back\u001b[39;00m\n\u001b[0;32m    376\u001b[0m pkt \u001b[39m=\u001b[39m \u001b[39mbytes\u001b[39m(sock\u001b[39m.\u001b[39mrecv())\n\u001b[1;32m--> 378\u001b[0m ok_pkt \u001b[39m=\u001b[39m \u001b[39mself\u001b[39;49m\u001b[39m.\u001b[39;49m_handle_server_response(sock, pkt)\n\u001b[0;32m    379\u001b[0m \u001b[39mif\u001b[39;00m ok_pkt \u001b[39mis\u001b[39;00m \u001b[39mNone\u001b[39;00m:\n\u001b[0;32m    380\u001b[0m     \u001b[39mraise\u001b[39;00m InterfaceError(\u001b[39m\"\u001b[39m\u001b[39mGot a NULL ok_pkt\u001b[39m\u001b[39m\"\u001b[39m) \u001b[39mfrom\u001b[39;00m \u001b[39mNone\u001b[39;00m\n",
      "File \u001b[1;32m~\\AppData\\Local\\Packages\\PythonSoftwareFoundation.Python.3.11_qbz5n2kfra8p0\\LocalCache\\local-packages\\Python311\\site-packages\\mysql\\connector\\authentication.py:270\u001b[0m, in \u001b[0;36mMySQLAuthenticator._handle_server_response\u001b[1;34m(self, sock, pkt)\u001b[0m\n\u001b[0;32m    268\u001b[0m     logger\u001b[39m.\u001b[39mdebug(\u001b[39m\"\u001b[39m\u001b[39mServer\u001b[39m\u001b[39m'\u001b[39m\u001b[39ms response is an auth switch request\u001b[39m\u001b[39m\"\u001b[39m)\n\u001b[0;32m    269\u001b[0m     new_strategy_name, auth_data \u001b[39m=\u001b[39m MySQLProtocol\u001b[39m.\u001b[39mparse_auth_switch_request(pkt)\n\u001b[1;32m--> 270\u001b[0m     \u001b[39mself\u001b[39;49m\u001b[39m.\u001b[39;49m_switch_auth_strategy(new_strategy_name)\n\u001b[0;32m    271\u001b[0m     pkt \u001b[39m=\u001b[39m \u001b[39mself\u001b[39m\u001b[39m.\u001b[39m_auth_strategy\u001b[39m.\u001b[39mauth_switch_response(\n\u001b[0;32m    272\u001b[0m         sock, auth_data, \u001b[39m*\u001b[39m\u001b[39m*\u001b[39m\u001b[39mself\u001b[39m\u001b[39m.\u001b[39m_plugin_config\n\u001b[0;32m    273\u001b[0m     )\n\u001b[0;32m    275\u001b[0m \u001b[39mif\u001b[39;00m pkt[\u001b[39m4\u001b[39m] \u001b[39m==\u001b[39m EXCHANGE_FURTHER_STATUS:\n",
      "File \u001b[1;32m~\\AppData\\Local\\Packages\\PythonSoftwareFoundation.Python.3.11_qbz5n2kfra8p0\\LocalCache\\local-packages\\Python311\\site-packages\\mysql\\connector\\authentication.py:179\u001b[0m, in \u001b[0;36mMySQLAuthenticator._switch_auth_strategy\u001b[1;34m(self, new_strategy_name, strategy_class, username, password_factor)\u001b[0m\n\u001b[0;32m    176\u001b[0m     strategy_class \u001b[39m=\u001b[39m \u001b[39mself\u001b[39m\u001b[39m.\u001b[39m_auth_plugin_class\n\u001b[0;32m    178\u001b[0m logger\u001b[39m.\u001b[39mdebug(\u001b[39m\"\u001b[39m\u001b[39mSwitching to strategy \u001b[39m\u001b[39m%s\u001b[39;00m\u001b[39m\"\u001b[39m, new_strategy_name)\n\u001b[1;32m--> 179\u001b[0m \u001b[39mself\u001b[39m\u001b[39m.\u001b[39m_auth_strategy \u001b[39m=\u001b[39m get_auth_plugin(\n\u001b[0;32m    180\u001b[0m     plugin_name\u001b[39m=\u001b[39;49mnew_strategy_name, auth_plugin_class\u001b[39m=\u001b[39;49mstrategy_class\n\u001b[0;32m    181\u001b[0m )(\n\u001b[0;32m    182\u001b[0m     username,\n\u001b[0;32m    183\u001b[0m     \u001b[39mself\u001b[39m\u001b[39m.\u001b[39m_passwords\u001b[39m.\u001b[39mget(password_factor, \u001b[39m\"\u001b[39m\u001b[39m\"\u001b[39m),\n\u001b[0;32m    184\u001b[0m     ssl_enabled\u001b[39m=\u001b[39m\u001b[39mself\u001b[39m\u001b[39m.\u001b[39mssl_enabled,\n\u001b[0;32m    185\u001b[0m )\n",
      "File \u001b[1;32m~\\AppData\\Local\\Packages\\PythonSoftwareFoundation.Python.3.11_qbz5n2kfra8p0\\LocalCache\\local-packages\\Python311\\site-packages\\mysql\\connector\\plugins\\__init__.py:162\u001b[0m, in \u001b[0;36mget_auth_plugin\u001b[1;34m(plugin_name, auth_plugin_class)\u001b[0m\n\u001b[0;32m    160\u001b[0m     \u001b[39mexcept\u001b[39;00m \u001b[39mValueError\u001b[39;00m \u001b[39mas\u001b[39;00m err:\n\u001b[0;32m    161\u001b[0m         \u001b[39mraise\u001b[39;00m ProgrammingError(\u001b[39mf\u001b[39m\u001b[39m\"\u001b[39m\u001b[39mInvalid module name: \u001b[39m\u001b[39m{\u001b[39;00merr\u001b[39m}\u001b[39;00m\u001b[39m\"\u001b[39m) \u001b[39mfrom\u001b[39;00m \u001b[39merr\u001b[39;00m\n\u001b[1;32m--> 162\u001b[0m \u001b[39mraise\u001b[39;00m NotSupportedError(\u001b[39mf\u001b[39m\u001b[39m\"\u001b[39m\u001b[39mAuthentication plugin \u001b[39m\u001b[39m'\u001b[39m\u001b[39m{\u001b[39;00mplugin_name\u001b[39m}\u001b[39;00m\u001b[39m'\u001b[39m\u001b[39m is not supported\u001b[39m\u001b[39m\"\u001b[39m)\n",
      "\u001b[1;31mNotSupportedError\u001b[0m: Authentication plugin 'auth_gssapi_client' is not supported"
     ]
    }
   ],
   "source": [
    "with DBcm.UseDatabase(config) as db:\n",
    "    SQL = \"\"\" show tables \"\"\"\n",
    "    db.execute(SQL)\n",
    "    results = db.fetchall()"
   ]
  },
  {
   "cell_type": "code",
   "execution_count": null,
   "metadata": {},
   "outputs": [],
   "source": [
    "results"
   ]
  },
  {
   "cell_type": "code",
   "execution_count": null,
   "metadata": {},
   "outputs": [],
   "source": [
    "type(   (\"people\")   )"
   ]
  },
  {
   "cell_type": "code",
   "execution_count": null,
   "metadata": {},
   "outputs": [],
   "source": [
    "type(   (\"people\",)   )"
   ]
  },
  {
   "cell_type": "code",
   "execution_count": null,
   "metadata": {},
   "outputs": [],
   "source": [
    "results   # a list of tuples... maybe one."
   ]
  },
  {
   "cell_type": "code",
   "execution_count": null,
   "metadata": {},
   "outputs": [],
   "source": [
    "with DBcm.UseDatabase(config) as db:\n",
    "    SQL = \"\"\" show databases \"\"\"\n",
    "    db.execute(SQL)\n",
    "    results = db.fetchall()"
   ]
  },
  {
   "cell_type": "code",
   "execution_count": null,
   "metadata": {},
   "outputs": [],
   "source": [
    "results"
   ]
  },
  {
   "cell_type": "code",
   "execution_count": null,
   "metadata": {},
   "outputs": [],
   "source": [
    "with DBcm.UseDatabase(config) as db:\n",
    "    SQL = \"\"\" describe people \"\"\"\n",
    "    db.execute(SQL)\n",
    "    results = db.fetchall()"
   ]
  },
  {
   "cell_type": "code",
   "execution_count": null,
   "metadata": {},
   "outputs": [],
   "source": [
    "results  # a list of tuples... aka: a list of rows of data."
   ]
  },
  {
   "cell_type": "code",
   "execution_count": null,
   "metadata": {},
   "outputs": [],
   "source": [
    "# CRUD in SQL.\n",
    "\n",
    "# C: INSERT\n",
    "# R: SELECT\n",
    "# U: UPDATE\n",
    "# D: DELETE\n"
   ]
  },
  {
   "cell_type": "code",
   "execution_count": null,
   "metadata": {},
   "outputs": [],
   "source": [
    "SQL = \"\"\"    \n",
    "    INSERT INTO people\n",
    "    (name, age, location)\n",
    "    VALUES\n",
    "    (\"Paul\", 21, \"Carlow\")\n",
    "\"\"\""
   ]
  },
  {
   "cell_type": "code",
   "execution_count": null,
   "metadata": {},
   "outputs": [],
   "source": [
    "print(SQL)"
   ]
  },
  {
   "cell_type": "code",
   "execution_count": null,
   "metadata": {},
   "outputs": [],
   "source": [
    "with DBcm.UseDatabase(config) as db:\n",
    "    db.execute(SQL)"
   ]
  },
  {
   "cell_type": "code",
   "execution_count": null,
   "metadata": {},
   "outputs": [],
   "source": [
    "SQL = \"\"\" \n",
    "    SELECT * from people\n",
    "\"\"\"\n",
    "with DBcm.UseDatabase(config) as db:\n",
    "    db.execute(SQL)\n",
    "    rows = db.fetchall()   #  db.fetchone() and db.fetchmany()"
   ]
  },
  {
   "cell_type": "code",
   "execution_count": null,
   "metadata": {},
   "outputs": [],
   "source": [
    "rows"
   ]
  },
  {
   "cell_type": "code",
   "execution_count": null,
   "metadata": {},
   "outputs": [],
   "source": [
    "persons = (\n",
    "    (\"Fred\", 89, \"Dublin\"),\n",
    "    (\"Mary\", 35, \"Galway\"),\n",
    "    (\"Darius\", 12, \"Laois\"),\n",
    ")"
   ]
  },
  {
   "cell_type": "code",
   "execution_count": null,
   "metadata": {},
   "outputs": [],
   "source": [
    "persons"
   ]
  },
  {
   "cell_type": "code",
   "execution_count": null,
   "metadata": {},
   "outputs": [],
   "source": [
    "# Placeholders...   %s   \n",
    "\n",
    "SQL = \"\"\"    \n",
    "    INSERT INTO people\n",
    "    (name, age, location)\n",
    "    VALUES\n",
    "    (%s, %s, %s)\n",
    "\"\"\""
   ]
  },
  {
   "cell_type": "code",
   "execution_count": null,
   "metadata": {},
   "outputs": [],
   "source": [
    "for person in persons:\n",
    "    print(person)"
   ]
  },
  {
   "cell_type": "code",
   "execution_count": null,
   "metadata": {},
   "outputs": [],
   "source": [
    "for person in persons:\n",
    "    with DBcm.UseDatabase(config) as db:\n",
    "        db.execute(SQL, person)"
   ]
  },
  {
   "cell_type": "code",
   "execution_count": null,
   "metadata": {},
   "outputs": [],
   "source": [
    "with DBcm.UseDatabase(config) as db:\n",
    "    for person in persons:\n",
    "        db.execute(SQL, person)"
   ]
  },
  {
   "cell_type": "code",
   "execution_count": null,
   "metadata": {},
   "outputs": [],
   "source": [
    "with DBcm.UseDatabase(config) as db:\n",
    "    db.executemany(SQL, persons)   # The looping is handled by the built-in DB code."
   ]
  },
  {
   "cell_type": "code",
   "execution_count": null,
   "metadata": {},
   "outputs": [],
   "source": [
    "SQL = \"\"\"SELECT * FROM people\"\"\"\n",
    "\n",
    "with DBcm.UseDatabase(config) as db:\n",
    "    db.execute(SQL)\n",
    "    data = db.fetchall()\n",
    "\n",
    "data\n",
    "# As always, a list of tuples."
   ]
  },
  {
   "cell_type": "code",
   "execution_count": null,
   "metadata": {},
   "outputs": [],
   "source": []
  }
 ],
 "metadata": {
  "kernelspec": {
   "display_name": "Python 3",
   "language": "python",
   "name": "python3"
  },
  "language_info": {
   "codemirror_mode": {
    "name": "ipython",
    "version": 3
   },
   "file_extension": ".py",
   "mimetype": "text/x-python",
   "name": "python",
   "nbconvert_exporter": "python",
   "pygments_lexer": "ipython3",
   "version": "3.11.5"
  }
 },
 "nbformat": 4,
 "nbformat_minor": 2
}
